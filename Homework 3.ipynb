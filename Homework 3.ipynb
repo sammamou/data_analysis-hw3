{
 "cells": [
  {
   "cell_type": "code",
   "execution_count": 107,
   "id": "91fa19e8",
   "metadata": {},
   "outputs": [],
   "source": [
    "import pandas as pd\n",
    "import seaborn as sns\n",
    "import numpy as np\n",
    "import matplotlib.pyplot as plt"
   ]
  },
  {
   "cell_type": "code",
   "execution_count": 108,
   "id": "3f073add",
   "metadata": {},
   "outputs": [
    {
     "data": {
      "text/html": [
       "<div>\n",
       "<style scoped>\n",
       "    .dataframe tbody tr th:only-of-type {\n",
       "        vertical-align: middle;\n",
       "    }\n",
       "\n",
       "    .dataframe tbody tr th {\n",
       "        vertical-align: top;\n",
       "    }\n",
       "\n",
       "    .dataframe thead th {\n",
       "        text-align: right;\n",
       "    }\n",
       "</style>\n",
       "<table border=\"1\" class=\"dataframe\">\n",
       "  <thead>\n",
       "    <tr style=\"text-align: right;\">\n",
       "      <th></th>\n",
       "      <th>experience_level</th>\n",
       "      <th>employment_type</th>\n",
       "      <th>job_title</th>\n",
       "      <th>salary_in_usd</th>\n",
       "      <th>remote_ratio</th>\n",
       "      <th>company_size</th>\n",
       "    </tr>\n",
       "  </thead>\n",
       "  <tbody>\n",
       "    <tr>\n",
       "      <th>0</th>\n",
       "      <td>MI</td>\n",
       "      <td>CT</td>\n",
       "      <td>ML Engineer</td>\n",
       "      <td>30000</td>\n",
       "      <td>fully remote</td>\n",
       "      <td>S</td>\n",
       "    </tr>\n",
       "    <tr>\n",
       "      <th>1</th>\n",
       "      <td>MI</td>\n",
       "      <td>CT</td>\n",
       "      <td>ML Engineer</td>\n",
       "      <td>25500</td>\n",
       "      <td>fully remote</td>\n",
       "      <td>S</td>\n",
       "    </tr>\n",
       "    <tr>\n",
       "      <th>2</th>\n",
       "      <td>SE</td>\n",
       "      <td>FT</td>\n",
       "      <td>Applied Scientist</td>\n",
       "      <td>222200</td>\n",
       "      <td>hybrid</td>\n",
       "      <td>L</td>\n",
       "    </tr>\n",
       "    <tr>\n",
       "      <th>3</th>\n",
       "      <td>SE</td>\n",
       "      <td>FT</td>\n",
       "      <td>Applied Scientist</td>\n",
       "      <td>136000</td>\n",
       "      <td>hybrid</td>\n",
       "      <td>L</td>\n",
       "    </tr>\n",
       "    <tr>\n",
       "      <th>4</th>\n",
       "      <td>SE</td>\n",
       "      <td>FT</td>\n",
       "      <td>Data Scientist</td>\n",
       "      <td>147100</td>\n",
       "      <td>hybrid</td>\n",
       "      <td>M</td>\n",
       "    </tr>\n",
       "    <tr>\n",
       "      <th>...</th>\n",
       "      <td>...</td>\n",
       "      <td>...</td>\n",
       "      <td>...</td>\n",
       "      <td>...</td>\n",
       "      <td>...</td>\n",
       "      <td>...</td>\n",
       "    </tr>\n",
       "    <tr>\n",
       "      <th>1560</th>\n",
       "      <td>SE</td>\n",
       "      <td>FT</td>\n",
       "      <td>Machine Learning Engineer</td>\n",
       "      <td>134500</td>\n",
       "      <td>hybrid</td>\n",
       "      <td>L</td>\n",
       "    </tr>\n",
       "    <tr>\n",
       "      <th>1561</th>\n",
       "      <td>MI</td>\n",
       "      <td>FT</td>\n",
       "      <td>Data Scientist</td>\n",
       "      <td>130000</td>\n",
       "      <td>hybrid</td>\n",
       "      <td>M</td>\n",
       "    </tr>\n",
       "    <tr>\n",
       "      <th>1562</th>\n",
       "      <td>MI</td>\n",
       "      <td>FT</td>\n",
       "      <td>Data Scientist</td>\n",
       "      <td>90000</td>\n",
       "      <td>hybrid</td>\n",
       "      <td>M</td>\n",
       "    </tr>\n",
       "    <tr>\n",
       "      <th>1563</th>\n",
       "      <td>EN</td>\n",
       "      <td>FT</td>\n",
       "      <td>Data Engineer</td>\n",
       "      <td>160000</td>\n",
       "      <td>hybrid</td>\n",
       "      <td>M</td>\n",
       "    </tr>\n",
       "    <tr>\n",
       "      <th>1564</th>\n",
       "      <td>EN</td>\n",
       "      <td>FT</td>\n",
       "      <td>Data Engineer</td>\n",
       "      <td>135000</td>\n",
       "      <td>hybrid</td>\n",
       "      <td>M</td>\n",
       "    </tr>\n",
       "  </tbody>\n",
       "</table>\n",
       "<p>1565 rows × 6 columns</p>\n",
       "</div>"
      ],
      "text/plain": [
       "     experience_level employment_type                  job_title  \\\n",
       "0                  MI              CT                ML Engineer   \n",
       "1                  MI              CT                ML Engineer   \n",
       "2                  SE              FT          Applied Scientist   \n",
       "3                  SE              FT          Applied Scientist   \n",
       "4                  SE              FT             Data Scientist   \n",
       "...               ...             ...                        ...   \n",
       "1560               SE              FT  Machine Learning Engineer   \n",
       "1561               MI              FT             Data Scientist   \n",
       "1562               MI              FT             Data Scientist   \n",
       "1563               EN              FT              Data Engineer   \n",
       "1564               EN              FT              Data Engineer   \n",
       "\n",
       "      salary_in_usd  remote_ratio company_size  \n",
       "0             30000  fully remote            S  \n",
       "1             25500  fully remote            S  \n",
       "2            222200        hybrid            L  \n",
       "3            136000        hybrid            L  \n",
       "4            147100        hybrid            M  \n",
       "...             ...           ...          ...  \n",
       "1560         134500        hybrid            L  \n",
       "1561         130000        hybrid            M  \n",
       "1562          90000        hybrid            M  \n",
       "1563         160000        hybrid            M  \n",
       "1564         135000        hybrid            M  \n",
       "\n",
       "[1565 rows x 6 columns]"
      ]
     },
     "metadata": {},
     "output_type": "display_data"
    }
   ],
   "source": [
    "#reading the csv document\n",
    "salaires_df = pd.read_csv(\"ds_salaries.csv\")\n",
    "display(salaires_df)"
   ]
  },
  {
   "cell_type": "markdown",
   "id": "dfb6a692",
   "metadata": {},
   "source": [
    "35% moyenne de personne travaillant a la maison. même chose pour notre type de travail (\"analyse de donnée\")\n",
    "est ce que notre doc est representatif de ceux qui travaillent que a la maison (est ce que 35% des gens dans ce csv sont 100 a la maison ?) ou alors pas representatif. \n",
    "\n",
    "on doit verifier a partir de remote_ratio. si j'ai fully remote c'est que le mec travail que a la maison. "
   ]
  },
  {
   "cell_type": "markdown",
   "id": "9599833e",
   "metadata": {},
   "source": [
    "1a) \n",
    "- H0 - This file really represent the population of people working from home.\n",
    "- H1 - This file isn't a good representation of people working from home.  "
   ]
  },
  {
   "cell_type": "markdown",
   "id": "c5779a08",
   "metadata": {},
   "source": [
    "1b)\n",
    "####The test statistic is . "
   ]
  },
  {
   "cell_type": "markdown",
   "id": "b0b74451",
   "metadata": {},
   "source": [
    "1c) We are going to check the null hypothesys with a bootstrap method. "
   ]
  },
  {
   "cell_type": "code",
   "execution_count": 191,
   "id": "5358d9e6",
   "metadata": {},
   "outputs": [],
   "source": [
    "def calculate_mean(sample, column_name, value_name):\n",
    "    '''This function return the mean value for a specific column, which contain non-numerical values, in a sample\n",
    "    samle: df containing the sample\n",
    "    column_name: the name of the column we want to calculate the mean\n",
    "    value_name: the value whose average we want'''\n",
    "    count = sample[column_name].value_counts();\n",
    "    mean = count[value_name]/sample.shape[0];\n",
    "    return mean \n",
    "    \n",
    "    \n",
    "def bootstrap_mean(original_sample, column_name, num_replications, categorical = None):\n",
    "    '''This function returns an array of bootstrapped sample means:\n",
    "    original_sample: df containing the original sample\n",
    "    column_name: name of column containing the variable of interest\n",
    "    num_replications: number of bootstrap samples to draw\n",
    "    categorical : The categorical name whose average we want'''  \n",
    "    original_sample_size = original_sample.shape[0] # we need to replicate with the same sample size\n",
    "    original_sample_var_of_interest = original_sample[[column_name]] # the use of [[]] will return a df rather than series\n",
    "    bstrap_means = np.empty(num_replications) # collection array for our estimates\n",
    "    for i in range(num_replications):\n",
    "        bootstrap_sample = original_sample_var_of_interest.sample(n=original_sample_size, replace=True) # note WITH REPLACEMENT!\n",
    "        if(categorical is not None) :\n",
    "            resampled_mean = calculate_mean(bootstrap_sample, column_name, categorical)\n",
    "        else : \n",
    "            resampled_mean = bootstrap_sample.mean()\n",
    "        bstrap_means[i] = resampled_mean\n",
    "    \n",
    "    return bstrap_means\n",
    "\n",
    "# run the bootstrap procedure and calculate the mean of fully_remote people in our original sample\n",
    "means_bootstrapped = bootstrap_mean(salaires_df, 'remote_ratio', 5000, \"fully remote\")\n",
    "population_mean = calculate_mean(salaires_df, \"remote_ratio\", \"fully remote\")\n"
   ]
  },
  {
   "cell_type": "markdown",
   "id": "e7b41d71",
   "metadata": {},
   "source": [
    "1d) Our conclusion is that we can reject the H0 under the conditions (with a condidence iterval of 95%)"
   ]
  },
  {
   "cell_type": "code",
   "execution_count": 193,
   "id": "ea84dd1d",
   "metadata": {},
   "outputs": [
    {
     "name": "stdout",
     "output_type": "stream",
     "text": [
      "The 95% boostsrap confidence interval is [0.3022364217252396, 0.34760383386581467]\n",
      "The test statical is 0.35 isn't in the confidence interval\n"
     ]
    },
    {
     "data": {
      "text/plain": [
       "<matplotlib.collections.LineCollection at 0x11b66dac40>"
      ]
     },
     "execution_count": 193,
     "metadata": {},
     "output_type": "execute_result"
    },
    {
     "data": {
      "image/png": "[encoded data removed]",
      "text/plain": [
       "<Figure size 500x500 with 1 Axes>"
      ]
     },
     "metadata": {},
     "output_type": "display_data"
    }
   ],
   "source": [
    "# visualize results\n",
    "print('The 95% boostsrap confidence interval is', [left_end,right_end])\n",
    "print(\"The test statical is 0.35 isn't in the confidence interval\")\n",
    "\n",
    "left_end = np.percentile(means_bootstrapped, 2.5, method='higher')\n",
    "right_end =  np.percentile(means_bootstrapped, 97.5, method='higher')\n",
    "ax1 = sns.displot(means_bootstrapped)\n",
    "ax1.set(xlabel='mean in a bootstrapped sample')\n",
    "plt.scatter(0.35, 0, color='red', s=120, clip_on=False) # the true value of the parameter (unknowable)\n",
    "plt.hlines(y=0, xmin=left_end, xmax=right_end, colors='orange', linestyles='solid', lw=7, clip_on=False)  # show line of values between 2.5 and 97.5 percentiles\n"
   ]
  },
  {
   "cell_type": "markdown",
   "id": "8f9ecee7",
   "metadata": {},
   "source": [
    "2a)\n",
    "  - 𝐻0 - The mean salary of a dataScientist is equal to the mean mean salary of a dataEngineer\n",
    "  - 𝐻1 - The mean salary of a dataScientist is not equal to the mean mean salary of a dataEngineer"
   ]
  },
  {
   "cell_type": "markdown",
   "id": "76744fa8",
   "metadata": {},
   "source": [
    "2b)##### The static test "
   ]
  },
  {
   "cell_type": "markdown",
   "id": "bca11006",
   "metadata": {},
   "source": [
    "2c) We are going to check the null hypothesys with a bootstrap method."
   ]
  },
  {
   "cell_type": "code",
   "execution_count": 194,
   "id": "d4527d00",
   "metadata": {},
   "outputs": [],
   "source": [
    "#creat a df with the two categoricals that we want\n",
    "dataScientist_dataEngineer_df = salaires_df[(salaires_df['job_title'] == 'Data Scientist') | (salaires_df['job_title'] == 'Data Engineer')]\n",
    "#calculate the mean for each one\n",
    "mean_salary = dataScientist_dataEngineer_df.groupby('job_title')['salary_in_usd'].mean().reset_index()\n"
   ]
  },
  {
   "cell_type": "code",
   "execution_count": 195,
   "id": "c4e75aec",
   "metadata": {},
   "outputs": [],
   "source": [
    "def diff_of_avgs(df, column_name, grouping_var):\n",
    "    '''This function returns the difference in averages\n",
    "    df: the original df\n",
    "    column_name: the name of the column that we are going to calculate the mean on\n",
    "    grouping_var: the name of the column that we use to groupby'''\n",
    "    grpby_var = df.groupby(grouping_var)\n",
    "    avgs = grpby_var[column_name].mean()\n",
    "    return avgs[1] - avgs[0]\n",
    "\n",
    "def bootstrap_mean_difference(original_sample, column_name, grouping_var, num_replications):\n",
    "    '''This function returns an array of bootstrapped differences between two sample averages:\n",
    "      original_sample: df containing the original sample\n",
    "      column_name: name of column containing the variable to average\n",
    "      grouping_var: name of variable according to which to group\n",
    "      num_replications: number of bootstrap samples'''\n",
    "    original_sample_size = original_sample.shape[0] # we need to replicate with the same sample size\n",
    "    bstrap_mean_diffs = np.empty(num_replications)\n",
    "    for i in range(num_replications):\n",
    "        bootstrap_sample = original_sample.sample(original_sample_size, replace=True) # note WITH REPLACEMENT!\n",
    "        resampled_mean_diff = diff_of_avgs(bootstrap_sample, column_name, grouping_var)\n",
    "        bstrap_mean_diffs[i] = resampled_mean_diff\n",
    "    \n",
    "    return bstrap_mean_diffs\n",
    "\n",
    "# run the bootstrap procedure\n",
    "bstrap_diffs = bootstrap_mean_difference(dataScientist_dataEngineer_df, 'salary_in_usd', 'job_title',  5000)"
   ]
  },
  {
   "cell_type": "markdown",
   "id": "23b5f357",
   "metadata": {},
   "source": [
    "2d) \n",
    " - The 95% boostsrap confidence interval for difference between population means is [5216.429760186904, 20289.565691578173]\n",
    " - The 99% boostsrap confidence interval for difference between population means [2708.3755672560073, 22431.525984626904]\n"
   ]
  },
  {
   "cell_type": "code",
   "execution_count": 196,
   "id": "a7937a24",
   "metadata": {},
   "outputs": [
    {
     "name": "stdout",
     "output_type": "stream",
     "text": [
      "The 95% boostsrap confidence interval for difference between population means [5216.429760186904, 20289.565691578173]\n"
     ]
    },
    {
     "data": {
      "image/png": "[encoded data removed]",
      "text/plain": [
       "<Figure size 500x500 with 1 Axes>"
      ]
     },
     "metadata": {},
     "output_type": "display_data"
    }
   ],
   "source": [
    "# Get the endpoints of the 95% confidence interval\n",
    "left_end = np.percentile(bstrap_diffs, 2.5, method='higher')\n",
    "right_end = np.percentile(bstrap_diffs, 97.5, method='higher')\n",
    "print('The 95% boostsrap confidence interval for difference between population means', [left_end,right_end])\n",
    "\n",
    "# visualize results\n",
    "ax = sns.displot(bstrap_diffs)\n",
    "plt.scatter(0, 0, color='red', s=120, clip_on=False)\n",
    "plt.hlines(y=0, xmin=left_end, xmax=right_end, colors='orange', linestyles='solid', lw=7, clip_on=False);  # show line of values between 2.5 and 97.5 percentiles"
   ]
  },
  {
   "cell_type": "code",
   "execution_count": 197,
   "id": "7d63aa8f",
   "metadata": {},
   "outputs": [
    {
     "name": "stdout",
     "output_type": "stream",
     "text": [
      "The 99% boostsrap confidence interval for difference between population means [2708.3755672560073, 22431.525984626904]\n"
     ]
    },
    {
     "data": {
      "image/png": "[encoded data removed]",
      "text/plain": [
       "<Figure size 500x500 with 1 Axes>"
      ]
     },
     "metadata": {},
     "output_type": "display_data"
    }
   ],
   "source": [
    "# Get the endpoints of the 99% confidence interval\n",
    "left_end = np.percentile(bstrap_diffs, 0.5, method='higher')\n",
    "right_end = np.percentile(bstrap_diffs, 99.5, method='higher')\n",
    "print('The 99% boostsrap confidence interval for difference between population means', [left_end,right_end])\n",
    "\n",
    "# visualize results\n",
    "ax = sns.displot(bstrap_diffs)\n",
    "plt.scatter(0, 0, color='red', s=120, clip_on=False)\n",
    "plt.hlines(y=0, xmin=left_end, xmax=right_end, colors='orange', linestyles='solid', lw=7, clip_on=False);  # show line of values between 2.5 and 97.5 percentiles"
   ]
  },
  {
   "cell_type": "markdown",
   "id": "e3e0bbf4",
   "metadata": {},
   "source": [
    "2e) We counclude that we can reject the H0 in the different cases, because the expected value (0) isn't in the confidence interval no matter if it's 95% or 99%. In other word we can reject the fact that the salary's means are equals. "
   ]
  },
  {
   "cell_type": "markdown",
   "id": "6740a193",
   "metadata": {},
   "source": [
    "3 ) The confidence interval of the mean salary of an employee in a company of size Medium is [153711.8287808128, 159382.3131245836]"
   ]
  },
  {
   "cell_type": "code",
   "execution_count": 125,
   "id": "a9043b6a",
   "metadata": {},
   "outputs": [],
   "source": [
    "#run the bootstrap procedure on a dataframe with exclusively medium company \n",
    "sizeM_society_df = salaires_df[(salaires_df['company_size'] == 'M')]\n",
    "means_bootstrapped_Msociety = bootstrap_mean(sizeM_society_df, 'salary_in_usd', 5000, False)"
   ]
  },
  {
   "cell_type": "code",
   "execution_count": 198,
   "id": "9ee72ee0",
   "metadata": {},
   "outputs": [
    {
     "name": "stdout",
     "output_type": "stream",
     "text": [
      "The 95% boostsrap confidence interval is [153711.8287808128, 159382.3131245836]\n"
     ]
    },
    {
     "data": {
      "text/plain": [
       "<matplotlib.collections.LineCollection at 0x11b699a3d0>"
      ]
     },
     "execution_count": 198,
     "metadata": {},
     "output_type": "execute_result"
    },
    {
     "data": {
      "image/png": "[encoded data removed]",
      "text/plain": [
       "<Figure size 500x500 with 1 Axes>"
      ]
     },
     "metadata": {},
     "output_type": "display_data"
    }
   ],
   "source": [
    "# Get the endpoints of the 95% confidence interval\n",
    "left_end = np.percentile(means_bootstrapped_Msociety, 2.5, method='higher')\n",
    "right_end =  np.percentile(means_bootstrapped_Msociety, 97.5, method='higher')\n",
    "print('The 95% boostsrap confidence interval is', [left_end,right_end])\n",
    "\n",
    "# visualize results\n",
    "ax1 = sns.displot(means_bootstrapped_Msociety)\n",
    "ax1.set(xlabel='mean in a bootstrapped sample')\n",
    "plt.hlines(y=0, xmin=left_end, xmax=right_end, colors='orange', linestyles='solid', lw=7, clip_on=False)  # show line of values between 2.5 and 97.5 percentiles\n"
   ]
  },
  {
   "cell_type": "markdown",
   "id": "9b5f788e",
   "metadata": {},
   "source": [
    "4a) For the 100's 95% bootstrap confidence intervals that we generate, the real median salary was included in 97 of them. "
   ]
  },
  {
   "cell_type": "code",
   "execution_count": 199,
   "id": "2d73a676",
   "metadata": {},
   "outputs": [],
   "source": [
    "#calculate the median salary \n",
    "#create a df with exclusively hybrid's remote ratio \n",
    "real_median_salary = salaires_df[\"salary_in_usd\"].median()\n",
    "hybrid_df = salaires_df[(salaires_df['remote_ratio'] == 'hybrid')]\n"
   ]
  },
  {
   "cell_type": "code",
   "execution_count": 157,
   "id": "da4b958b",
   "metadata": {},
   "outputs": [],
   "source": [
    "def create_sample(hybrid_df, number_people): \n",
    "    '''This function is create a sample of a certain size from a df\n",
    "    hybrid_df: a df that we use to get a sample\n",
    "    number_people: the size of the sample'''\n",
    "    return hybrid_df.sample(n=number_people, replace=False)\n",
    "\n",
    "def bootstrap_median(original_sample, column_name, num_replications):\n",
    "    '''This function returns an array of bootstrapped sample medians:\n",
    "    original_sample: df containing the original sample\n",
    "    column_name: name of column containing the variable of interest\n",
    "    num_replications: number of bootstrap samples to draw '''  \n",
    "    original_sample_size = original_sample.shape[0] # we need to replicate with the same sample size\n",
    "    original_sample_var_of_interest = original_sample[[column_name]] # the use of [[]] will return a df rather than series\n",
    "    bstrap_medians = np.empty(num_replications) # collection array for our estimates\n",
    "    for i in range(num_replications):\n",
    "        bootstrap_sample = original_sample_var_of_interest.sample(n=original_sample_size, replace=True) # note WITH REPLACEMENT!\n",
    "        resampled_median = bootstrap_sample.quantile(0.5, interpolation='higher')\n",
    "        bstrap_medians[i] = resampled_median\n",
    "    \n",
    "    return bstrap_medians\n",
    " \n",
    "def real_median_in_confience_interval(bstrap_medians, real_median_salary) :\n",
    "    '''This funciton return a bolean value, True if the median is in the confidence interval\n",
    "    bstrap_median: an array of values from which we calculate the confidence interval\n",
    "    real_median_salary: the number that we check if in the confidence interval'''\n",
    "    left_end = np.percentile(bstrap_medians, 2.5, method='higher')\n",
    "    right_end =  np.percentile(bstrap_medians, 97.5, method='higher')\n",
    "    flag = False\n",
    "    if (left_end < real_median_salary) & (real_median_salary < right_end):\n",
    "        flag = True\n",
    "    return flag"
   ]
  },
  {
   "cell_type": "code",
   "execution_count": 162,
   "id": "e9b7e8ab",
   "metadata": {},
   "outputs": [],
   "source": [
    "#running the process 100 times\n",
    "median_in_confience_interval = np.empty(100)\n",
    "for i in range(100):\n",
    "    sample = create_sample(hybrid_df, 150)\n",
    "    bstrap_median = bootstrap_median(sample, \"salary_in_usd\",1000)\n",
    "    median_in_confience_interval[i] = real_median_in_confience_interval(bstrap_median, real_median_salary)"
   ]
  },
  {
   "cell_type": "code",
   "execution_count": 200,
   "id": "ee58804a",
   "metadata": {},
   "outputs": [
    {
     "name": "stdout",
     "output_type": "stream",
     "text": [
      "Number of time that the real median floped in the confidence interval is : 97.0\n"
     ]
    }
   ],
   "source": [
    "#checking the number of time with a True answer \n",
    "count_true = sum(median_in_confience_interval)\n",
    "print(\"Number of time that the real median floped in the confidence interval is :\", count_true)"
   ]
  },
  {
   "cell_type": "markdown",
   "id": "da8b94c1",
   "metadata": {},
   "source": [
    "4b)"
   ]
  },
  {
   "cell_type": "markdown",
   "id": "05ebece5",
   "metadata": {},
   "source": [
    "4c)"
   ]
  },
  {
   "cell_type": "code",
   "execution_count": 186,
   "id": "5fc402ed",
   "metadata": {},
   "outputs": [
    {
     "name": "stdout",
     "output_type": "stream",
     "text": [
      "112000.0\n"
     ]
    },
    {
     "data": {
      "image/png": "[encoded data removed]",
      "text/plain": [
       "<Figure size 500x500 with 1 Axes>"
      ]
     },
     "metadata": {},
     "output_type": "display_data"
    }
   ],
   "source": [
    "fully_remote_df = salaires_df[(salaires_df['remote_ratio'] == 'fully remote')]\n",
    "first_quartile_fully = fully_remote_df['salary_in_usd'].quantile(0.25)\n",
    "print(first_quartile_fully)\n",
    "ax1 = sns.displot(data=fully_remote_df, x='salary_in_usd')\n",
    "plt.axvline(x=first_quartile_fully, color='red')\n",
    "plt.show()"
   ]
  },
  {
   "cell_type": "code",
   "execution_count": 187,
   "id": "199e0895",
   "metadata": {},
   "outputs": [
    {
     "name": "stdout",
     "output_type": "stream",
     "text": [
      "120000.0\n"
     ]
    },
    {
     "data": {
      "image/png": "[encoded data removed]",
      "text/plain": [
       "<Figure size 500x500 with 1 Axes>"
      ]
     },
     "metadata": {},
     "output_type": "display_data"
    }
   ],
   "source": [
    "first_quartile_hybrid = hybrid_df['salary_in_usd'].quantile(0.25)\n",
    "print(first_quartile_hybrid)\n",
    "ax2 = sns.displot(data=hybrid_df, x='salary_in_usd')\n",
    "plt.axvline(x=first_quartile_hybrid, color='green')\n",
    "plt.show()"
   ]
  },
  {
   "cell_type": "markdown",
   "id": "e7cf201e",
   "metadata": {},
   "source": [
    "Part 2 :"
   ]
  },
  {
   "cell_type": "markdown",
   "id": "fc215dd3",
   "metadata": {},
   "source": [
    "1 ) \n",
    "With a very small sample, there may be increased bias in bootstrap estimates and higher variability in results. Due to the limited sample size, the generated bootstrap samples may not fully capture the true variability of the data, which may result in biased estimates or less precise confidence intervals."
   ]
  },
  {
   "cell_type": "markdown",
   "id": "0659519e",
   "metadata": {},
   "source": [
    "2a) "
   ]
  }
 ],
 "metadata": {
  "kernelspec": {
   "display_name": "Python 3 (ipykernel)",
   "language": "python",
   "name": "python3"
  },
  "language_info": {
   "codemirror_mode": {
    "name": "ipython",
    "version": 3
   },
   "file_extension": ".py",
   "mimetype": "text/x-python",
   "name": "python",
   "nbconvert_exporter": "python",
   "pygments_lexer": "ipython3",
   "version": "3.9.16"
  }
 },
 "nbformat": 4,
 "nbformat_minor": 5
}
