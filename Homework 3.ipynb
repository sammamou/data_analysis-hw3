{
 "cells": [
  {
   "cell_type": "code",
   "execution_count": 2,
   "id": "91fa19e8",
   "metadata": {},
   "outputs": [],
   "source": [
    "import pandas as pd\n",
    "import seaborn as sns\n",
    "import numpy as np\n",
    "import matplotlib.pyplot as plt"
   ]
  },
  {
   "cell_type": "code",
   "execution_count": 3,
   "id": "3f073add",
   "metadata": {},
   "outputs": [
    {
     "data": {
      "text/html": [
       "<div>\n",
       "<style scoped>\n",
       "    .dataframe tbody tr th:only-of-type {\n",
       "        vertical-align: middle;\n",
       "    }\n",
       "\n",
       "    .dataframe tbody tr th {\n",
       "        vertical-align: top;\n",
       "    }\n",
       "\n",
       "    .dataframe thead th {\n",
       "        text-align: right;\n",
       "    }\n",
       "</style>\n",
       "<table border=\"1\" class=\"dataframe\">\n",
       "  <thead>\n",
       "    <tr style=\"text-align: right;\">\n",
       "      <th></th>\n",
       "      <th>experience_level</th>\n",
       "      <th>employment_type</th>\n",
       "      <th>job_title</th>\n",
       "      <th>salary_in_usd</th>\n",
       "      <th>remote_ratio</th>\n",
       "      <th>company_size</th>\n",
       "    </tr>\n",
       "  </thead>\n",
       "  <tbody>\n",
       "    <tr>\n",
       "      <th>0</th>\n",
       "      <td>MI</td>\n",
       "      <td>CT</td>\n",
       "      <td>ML Engineer</td>\n",
       "      <td>30000</td>\n",
       "      <td>fully remote</td>\n",
       "      <td>S</td>\n",
       "    </tr>\n",
       "    <tr>\n",
       "      <th>1</th>\n",
       "      <td>MI</td>\n",
       "      <td>CT</td>\n",
       "      <td>ML Engineer</td>\n",
       "      <td>25500</td>\n",
       "      <td>fully remote</td>\n",
       "      <td>S</td>\n",
       "    </tr>\n",
       "    <tr>\n",
       "      <th>2</th>\n",
       "      <td>SE</td>\n",
       "      <td>FT</td>\n",
       "      <td>Applied Scientist</td>\n",
       "      <td>222200</td>\n",
       "      <td>hybrid</td>\n",
       "      <td>L</td>\n",
       "    </tr>\n",
       "    <tr>\n",
       "      <th>3</th>\n",
       "      <td>SE</td>\n",
       "      <td>FT</td>\n",
       "      <td>Applied Scientist</td>\n",
       "      <td>136000</td>\n",
       "      <td>hybrid</td>\n",
       "      <td>L</td>\n",
       "    </tr>\n",
       "    <tr>\n",
       "      <th>4</th>\n",
       "      <td>SE</td>\n",
       "      <td>FT</td>\n",
       "      <td>Data Scientist</td>\n",
       "      <td>147100</td>\n",
       "      <td>hybrid</td>\n",
       "      <td>M</td>\n",
       "    </tr>\n",
       "  </tbody>\n",
       "</table>\n",
       "</div>"
      ],
      "text/plain": [
       "  experience_level employment_type          job_title  salary_in_usd  \\\n",
       "0               MI              CT        ML Engineer          30000   \n",
       "1               MI              CT        ML Engineer          25500   \n",
       "2               SE              FT  Applied Scientist         222200   \n",
       "3               SE              FT  Applied Scientist         136000   \n",
       "4               SE              FT     Data Scientist         147100   \n",
       "\n",
       "   remote_ratio company_size  \n",
       "0  fully remote            S  \n",
       "1  fully remote            S  \n",
       "2        hybrid            L  \n",
       "3        hybrid            L  \n",
       "4        hybrid            M  "
      ]
     },
     "execution_count": 3,
     "metadata": {},
     "output_type": "execute_result"
    }
   ],
   "source": [
    "#reading the csv document\n",
    "salaries_df = pd.read_csv(\"ds_salaries.csv\")\n",
    "salaries_df.head()"
   ]
  },
  {
   "cell_type": "markdown",
   "id": "dfb6a692",
   "metadata": {},
   "source": [
    "35% moyenne de personne travaillant a la maison. même chose pour notre type de travail (\"analyse de donnée\")\n",
    "est ce que notre doc est representatif de ceux qui travaillent que a la maison (est ce que 35% des gens dans ce csv sont 100 a la maison ?) ou alors pas representatif. \n",
    "\n",
    "on doit verifier a partir de remote_ratio. si j'ai fully remote c'est que le mec travail que a la maison. "
   ]
  },
  {
   "attachments": {},
   "cell_type": "markdown",
   "id": "9599833e",
   "metadata": {},
   "source": [
    "1a)\n",
    "- H0 - 35% of the employees of Data profession works fully remote.\n",
    "- H1 - 35% of the employees of Data profession does not work fully remote."
   ]
  },
  {
   "attachments": {},
   "cell_type": "markdown",
   "id": "c5779a08",
   "metadata": {},
   "source": [
    "1b)\n",
    "#### The test statistic is the percentage of remote workers in the sample"
   ]
  },
  {
   "cell_type": "code",
   "execution_count": 25,
   "id": "34864e65",
   "metadata": {},
   "outputs": [],
   "source": [
    "def bootstarp_percentile(original_sample, column_name, num_replications):\n",
    "    \"\"\"Returns the percentile of the given column in the given dataframe\n",
    "    using bootstrapping.\"\"\"\n",
    "\n",
    "    original_sample_size = original_sample.shape[0] # we need to replicate with the same sample size\n",
    "    original_sample_var_of_interest = original_sample[[column_name]] # the use of [[]] will return a df rather than series\n",
    "    bstrap_percentile = np.empty(num_replications) # collection array for our estimates\n",
    "    for i in range(num_replications):\n",
    "        bootstrap_sample = original_sample_var_of_interest.sample(n=original_sample_size, replace=True) # note WITH REPLACEMENT!\n",
    "        resampled_percentile = np.count_nonzero(bootstrap_sample)*100/original_sample_size\n",
    "        bstrap_percentile[i] = resampled_percentile\n",
    "    \n",
    "    return bstrap_percentile\n"
   ]
  },
  {
   "cell_type": "code",
   "execution_count": 26,
   "id": "30685262",
   "metadata": {},
   "outputs": [
    {
     "name": "stdout",
     "output_type": "stream",
     "text": [
      "The 95% confidence interval for the population mean is between 30.159744408945688 and 34.760383386581466\n"
     ]
    },
    {
     "data": {
      "text/plain": [
       "<matplotlib.collections.PathCollection at 0x138ece67ca0>"
      ]
     },
     "execution_count": 26,
     "metadata": {},
     "output_type": "execute_result"
    },
    {
     "data": {
      "image/png": "[encoded data removed]",
      "text/plain": [
       "<Figure size 500x500 with 1 Axes>"
      ]
     },
     "metadata": {},
     "output_type": "display_data"
    }
   ],
   "source": [
    "salaries_df[\"remote_ratio_boolean\"] = salaries_df[\"remote_ratio\"].apply(lambda x: 1 if x==\"fully remote\" else 0)\n",
    "percentile_bootstrapped = bootstarp_percentile(salaries_df, \"remote_ratio_boolean\", 5000)\n",
    "\n",
    "left_end = np.percentile(percentile_bootstrapped, 2.5, method=\"higher\")\n",
    "right_end = np.percentile(percentile_bootstrapped, 97.5, method=\"lower\")\n",
    "print(\"The 95% confidence interval for the population mean is between\", left_end, 'and', right_end)\n",
    "\n",
    "ax = sns.displot(percentile_bootstrapped)\n",
    "ax.set(xlabel=\"Percent of fully remote companies\")\n",
    "plt.hlines(y=0, xmin=left_end, xmax=right_end, colors='orange', linestyles='solid', lw=7, clip_on=False)\n",
    "plt.scatter(35, 0, marker='.', s=300, color='red', clip_on=False)  # draw observed value on the x-axis (at (8,0))\n"
   ]
  },
  {
   "cell_type": "markdown",
   "id": "b0b74451",
   "metadata": {},
   "source": [
    "1c) We are going to check the null hypothesys with a bootstrap method. "
   ]
  },
  {
   "cell_type": "code",
   "execution_count": null,
   "id": "5358d9e6",
   "metadata": {},
   "outputs": [],
   "source": [
    "def calculate_mean(sample, column_name, value_name):\n",
    "    ''' This function return the mean value for a specific column, which contain non-numerical values, in a sample\n",
    "    sample: df containing the sample\n",
    "    column_name: the name of the column we want to calculate the mean\n",
    "    value_name: the value whose average we want '''\n",
    "    count = sample[column_name].value_counts()\n",
    "    mean = count[value_name]/sample.shape[0]\n",
    "    return mean\n",
    "    \n",
    "    \n",
    "def bootstrap_mean(original_sample, column_name, num_replications, categorical = None):\n",
    "    '''This function returns an array of bootstrapped sample means:\n",
    "    original_sample: df containing the original sample\n",
    "    column_name: name of column containing the variable of interest\n",
    "    num_replications: number of bootstrap samples to draw\n",
    "    categorical : The categorical name whose average we want'''\n",
    "    original_sample_size = original_sample.shape[0] # we need to replicate with the same sample size\n",
    "    original_sample_var_of_interest = original_sample[[column_name]] # the use of [[]] will return a df rather than series\n",
    "    bstrap_means = np.empty(num_replications) # collection array for our estimates\n",
    "    for i in range(num_replications):\n",
    "        bootstrap_sample = original_sample_var_of_interest.sample(n=original_sample_size, replace=True) # note WITH REPLACEMENT!\n",
    "        if(categorical is not None) :\n",
    "            resampled_mean = calculate_mean(bootstrap_sample, column_name, categorical)\n",
    "        else :\n",
    "            resampled_mean = bootstrap_sample.mean()\n",
    "        bstrap_means[i] = resampled_mean\n",
    "    \n",
    "    return bstrap_means\n",
    "\n",
    "# run the bootstrap procedure and calculate the mean of fully_remote people in our original sample\n",
    "means_bootstrapped = bootstrap_mean(salaries_df, 'remote_ratio', 5000, \"fully remote\")\n",
    "population_mean = calculate_mean(salaries_df, \"remote_ratio\", \"fully remote\")"
   ]
  },
  {
   "cell_type": "markdown",
   "id": "e7b41d71",
   "metadata": {},
   "source": [
    "1d) Our conclusion is that we can reject the H0 under the conditions (with a condidence iterval of 95%)"
   ]
  },
  {
   "cell_type": "code",
   "execution_count": 5,
   "id": "ea84dd1d",
   "metadata": {},
   "outputs": [
    {
     "ename": "NameError",
     "evalue": "name 'means_bootstrapped' is not defined",
     "output_type": "error",
     "traceback": [
      "\u001b[1;31m---------------------------------------------------------------------------\u001b[0m",
      "\u001b[1;31mNameError\u001b[0m                                 Traceback (most recent call last)",
      "Cell \u001b[1;32mIn[5], line 1\u001b[0m\n\u001b[1;32m----> 1\u001b[0m left_end \u001b[39m=\u001b[39m np\u001b[39m.\u001b[39mpercentile(means_bootstrapped, \u001b[39m2.5\u001b[39m, method\u001b[39m=\u001b[39m\u001b[39m'\u001b[39m\u001b[39mhigher\u001b[39m\u001b[39m'\u001b[39m)\n\u001b[0;32m      2\u001b[0m right_end \u001b[39m=\u001b[39m  np\u001b[39m.\u001b[39mpercentile(means_bootstrapped, \u001b[39m97.5\u001b[39m, method\u001b[39m=\u001b[39m\u001b[39m'\u001b[39m\u001b[39mhigher\u001b[39m\u001b[39m'\u001b[39m)\n\u001b[0;32m      3\u001b[0m \u001b[39m# visualize results\u001b[39;00m\n",
      "\u001b[1;31mNameError\u001b[0m: name 'means_bootstrapped' is not defined"
     ]
    }
   ],
   "source": [
    "\n",
    "left_end = np.percentile(means_bootstrapped, 2.5, method='higher')\n",
    "right_end =  np.percentile(means_bootstrapped, 97.5, method='higher')\n",
    "# visualize results\n",
    "print('The 95% boostsrap confidence interval is', [left_end,right_end])\n",
    "print(\"The test statical is 0.35 isn't in the confidence interval\")\n",
    "ax1 = sns.displot(means_bootstrapped)\n",
    "ax1.set(xlabel='mean in a bootstrapped sample')\n",
    "plt.scatter(0.35, 0, color='red', s=120, clip_on=False) # the true value of the parameter (unknowable)\n",
    "plt.hlines(y=0, xmin=left_end, xmax=right_end, colors='orange', linestyles='solid', lw=7, clip_on=False)  # show line of values between 2.5 and 97.5 percentiles\n"
   ]
  },
  {
   "attachments": {},
   "cell_type": "markdown",
   "id": "8f9ecee7",
   "metadata": {},
   "source": [
    "2a)\n",
    "  - 𝐻0 - The mean salary of Data Scientists is equal to the mean salary of Data Engineers\n",
    "  - 𝐻1 - The mean salary of Data Scientists is NOT equal to the mean salary of Data Engineers"
   ]
  },
  {
   "attachments": {},
   "cell_type": "markdown",
   "id": "76744fa8",
   "metadata": {},
   "source": [
    "2b)\n",
    "##### The static test is the mean of the salary of Data Scientists minus the mean of the salary of Data Engineers"
   ]
  },
  {
   "cell_type": "markdown",
   "id": "bca11006",
   "metadata": {},
   "source": [
    "2c) We are going to check the null hypothesys with a bootstrap method."
   ]
  },
  {
   "cell_type": "code",
   "execution_count": 6,
   "id": "d4527d00",
   "metadata": {},
   "outputs": [],
   "source": [
    "#creat a df with the two categoricals that we want\n",
    "dataScientist_dataEngineer_df = salaries_df[(salaries_df['job_title'] == 'Data Scientist') | (salaries_df['job_title'] == 'Data Engineer')]\n",
    "#calculate the mean for each one\n",
    "## TODO: why?\n",
    "mean_salary = dataScientist_dataEngineer_df.groupby('job_title')['salary_in_usd'].mean().reset_index()\n",
    "\n",
    "# sns.catplot(data=dataScientist_dataEngineer_df, x='job_title', y='salary_in_usd', kind='bar')"
   ]
  },
  {
   "cell_type": "code",
   "execution_count": 7,
   "id": "c4e75aec",
   "metadata": {},
   "outputs": [],
   "source": [
    "def diff_of_avgs(df, column_name, grouping_var):\n",
    "    '''This function returns the difference in averages\n",
    "    df: the original df\n",
    "    column_name: the name of the column that we are going to calculate the mean on\n",
    "    grouping_var: the name of the column that we use to groupby'''\n",
    "    grpby_var = df.groupby(grouping_var)\n",
    "    avgs = grpby_var[column_name].mean()\n",
    "    return avgs[1] - avgs[0]\n",
    "\n",
    "def bootstrap_mean_difference(original_sample, column_name, grouping_var, num_replications):\n",
    "    '''This function returns an array of bootstrapped differences between two sample averages:\n",
    "      original_sample: df containing the original sample\n",
    "      column_name: name of column containing the variable to average\n",
    "      grouping_var: name of variable according to which to group\n",
    "      num_replications: number of bootstrap samples'''\n",
    "    original_sample_size = original_sample.shape[0] # we need to replicate with the same sample size\n",
    "    original_sample_cols_of_interest = original_sample[[column_name, grouping_var]]\n",
    "    bstrap_mean_diffs = np.empty(num_replications)\n",
    "    for i in range(num_replications):\n",
    "        bootstrap_sample = original_sample_cols_of_interest.sample(original_sample_size, replace=True) # note WITH REPLACEMENT!\n",
    "        resampled_mean_diff = diff_of_avgs(bootstrap_sample, column_name, grouping_var)\n",
    "        bstrap_mean_diffs[i] = resampled_mean_diff\n",
    "    \n",
    "    return bstrap_mean_diffs\n",
    "\n",
    "# run the bootstrap procedure\n",
    "bstrap_diffs = bootstrap_mean_difference(dataScientist_dataEngineer_df, 'salary_in_usd', 'job_title',  5000)"
   ]
  },
  {
   "cell_type": "code",
   "execution_count": 8,
   "id": "5d3dd2af",
   "metadata": {},
   "outputs": [
    {
     "name": "stdout",
     "output_type": "stream",
     "text": [
      "The 99% boostsrap confidence interval is [2823.8735155195754, 22498.458989805367]\n",
      "The 95% boostsrap confidence interval is [5202.6569141887885, 20166.75686181808]\n"
     ]
    },
    {
     "data": {
      "image/png": "[encoded data removed]",
      "text/plain": [
       "<Figure size 500x500 with 1 Axes>"
      ]
     },
     "metadata": {},
     "output_type": "display_data"
    }
   ],
   "source": [
    "ax = sns.displot(bstrap_diffs)\n",
    "ax.set(xlabel='difference in means in a bootstrapped sample')\n",
    "confidence_interval = 1\n",
    "color = 'orange'\n",
    "plt.scatter(0, 0, color='red', s=120, clip_on=False) # the true value of the parameter (unknowable)\n",
    "\n",
    "for i in range(2):\n",
    "    left_end = np.percentile(bstrap_diffs, confidence_interval/2, method='higher')\n",
    "    right_end =  np.percentile(bstrap_diffs, 100-confidence_interval/2, method='higher')\n",
    "    print('The {}% boostsrap confidence interval is'.format(100-confidence_interval), [left_end,right_end])\n",
    "    plt.hlines(y=0, xmin=left_end, xmax=right_end, colors=color, linestyles='solid', lw=10-4*i, clip_on=False)  # show line of values between 2.5 and 97.5 percentiles\n",
    "    confidence_interval += 4\n",
    "    color = 'green'"
   ]
  },
  {
   "cell_type": "markdown",
   "id": "23b5f357",
   "metadata": {},
   "source": [
    "2d) \n",
    " - The 95% boostsrap confidence interval for difference between population means is [5216.429760186904, 20289.565691578173]\n",
    " - The 99% boostsrap confidence interval for difference between population means [2708.3755672560073, 22431.525984626904]\n"
   ]
  },
  {
   "cell_type": "code",
   "execution_count": 9,
   "id": "a7937a24",
   "metadata": {},
   "outputs": [
    {
     "name": "stdout",
     "output_type": "stream",
     "text": [
      "The 95% boostsrap confidence interval for difference between population means [5202.6569141887885, 20166.75686181808]\n"
     ]
    },
    {
     "data": {
      "image/png": "[encoded data removed]",
      "text/plain": [
       "<Figure size 500x500 with 1 Axes>"
      ]
     },
     "metadata": {},
     "output_type": "display_data"
    }
   ],
   "source": [
    "# Get the endpoints of the 95% confidence interval\n",
    "left_end = np.percentile(bstrap_diffs, 2.5, method='higher')\n",
    "right_end = np.percentile(bstrap_diffs, 97.5, method='higher')\n",
    "print('The 95% boostsrap confidence interval for difference between population means', [left_end,right_end])\n",
    "\n",
    "# visualize results\n",
    "ax = sns.displot(bstrap_diffs)\n",
    "plt.scatter(0, 0, color='red', s=120, clip_on=False)\n",
    "plt.hlines(y=0, xmin=left_end, xmax=right_end, colors='orange', linestyles='solid', lw=7, clip_on=False);  # show line of values between 2.5 and 97.5 percentiles"
   ]
  },
  {
   "cell_type": "code",
   "execution_count": 10,
   "id": "7d63aa8f",
   "metadata": {},
   "outputs": [
    {
     "name": "stdout",
     "output_type": "stream",
     "text": [
      "The 99% boostsrap confidence interval for difference between population means [2823.8735155195754, 22498.458989805367]\n"
     ]
    },
    {
     "data": {
      "image/png": "[encoded data removed]",
      "text/plain": [
       "<Figure size 500x500 with 1 Axes>"
      ]
     },
     "metadata": {},
     "output_type": "display_data"
    }
   ],
   "source": [
    "# Get the endpoints of the 99% confidence interval\n",
    "left_end = np.percentile(bstrap_diffs, 0.5, method='higher')\n",
    "right_end = np.percentile(bstrap_diffs, 99.5, method='higher')\n",
    "print('The 99% boostsrap confidence interval for difference between population means', [left_end,right_end])\n",
    "\n",
    "# visualize results\n",
    "ax = sns.displot(bstrap_diffs)\n",
    "plt.scatter(0, 0, color='red', s=120, clip_on=False)\n",
    "plt.hlines(y=0, xmin=left_end, xmax=right_end, colors='orange', linestyles='solid', lw=7, clip_on=False);  # show line of values between 2.5 and 97.5 percentiles"
   ]
  },
  {
   "cell_type": "markdown",
   "id": "e3e0bbf4",
   "metadata": {},
   "source": [
    "2e) We counclude that we can reject the H0 in the different cases, because the expected value (0) isn't in the confidence interval no matter if it's 95% or 99%. In other word we can reject the fact that the salary's means are equals. "
   ]
  },
  {
   "cell_type": "markdown",
   "id": "6740a193",
   "metadata": {},
   "source": [
    "3 ) The confidence interval of the mean salary of an employee in a company of size Medium is [153711.8287808128, 159382.3131245836]"
   ]
  },
  {
   "cell_type": "code",
   "execution_count": 11,
   "id": "a9043b6a",
   "metadata": {},
   "outputs": [
    {
     "ename": "NameError",
     "evalue": "name 'bootstrap_mean' is not defined",
     "output_type": "error",
     "traceback": [
      "\u001b[1;31m---------------------------------------------------------------------------\u001b[0m",
      "\u001b[1;31mNameError\u001b[0m                                 Traceback (most recent call last)",
      "Cell \u001b[1;32mIn[11], line 3\u001b[0m\n\u001b[0;32m      1\u001b[0m \u001b[39m#run the bootstrap procedure on a dataframe with exclusively medium company \u001b[39;00m\n\u001b[0;32m      2\u001b[0m sizeM_society_df \u001b[39m=\u001b[39m salaries_df[(salaries_df[\u001b[39m'\u001b[39m\u001b[39mcompany_size\u001b[39m\u001b[39m'\u001b[39m] \u001b[39m==\u001b[39m \u001b[39m'\u001b[39m\u001b[39mM\u001b[39m\u001b[39m'\u001b[39m)]\n\u001b[1;32m----> 3\u001b[0m means_bootstrapped_Msociety \u001b[39m=\u001b[39m bootstrap_mean(sizeM_society_df, \u001b[39m'\u001b[39m\u001b[39msalary_in_usd\u001b[39m\u001b[39m'\u001b[39m, \u001b[39m5000\u001b[39m, \u001b[39mFalse\u001b[39;00m)\n",
      "\u001b[1;31mNameError\u001b[0m: name 'bootstrap_mean' is not defined"
     ]
    }
   ],
   "source": [
    "#run the bootstrap procedure on a dataframe with exclusively medium company \n",
    "sizeM_society_df = salaries_df[(salaries_df['company_size'] == 'M')]\n",
    "means_bootstrapped_Msociety = bootstrap_mean(sizeM_society_df, 'salary_in_usd', 5000, False)"
   ]
  },
  {
   "cell_type": "code",
   "execution_count": 12,
   "id": "9ee72ee0",
   "metadata": {},
   "outputs": [
    {
     "ename": "NameError",
     "evalue": "name 'means_bootstrapped_Msociety' is not defined",
     "output_type": "error",
     "traceback": [
      "\u001b[1;31m---------------------------------------------------------------------------\u001b[0m",
      "\u001b[1;31mNameError\u001b[0m                                 Traceback (most recent call last)",
      "Cell \u001b[1;32mIn[12], line 2\u001b[0m\n\u001b[0;32m      1\u001b[0m \u001b[39m# Get the endpoints of the 95% confidence interval\u001b[39;00m\n\u001b[1;32m----> 2\u001b[0m left_end \u001b[39m=\u001b[39m np\u001b[39m.\u001b[39mpercentile(means_bootstrapped_Msociety, \u001b[39m2.5\u001b[39m, method\u001b[39m=\u001b[39m\u001b[39m'\u001b[39m\u001b[39mhigher\u001b[39m\u001b[39m'\u001b[39m)\n\u001b[0;32m      3\u001b[0m right_end \u001b[39m=\u001b[39m  np\u001b[39m.\u001b[39mpercentile(means_bootstrapped_Msociety, \u001b[39m97.5\u001b[39m, method\u001b[39m=\u001b[39m\u001b[39m'\u001b[39m\u001b[39mhigher\u001b[39m\u001b[39m'\u001b[39m)\n\u001b[0;32m      4\u001b[0m \u001b[39mprint\u001b[39m(\u001b[39m'\u001b[39m\u001b[39mThe 95\u001b[39m\u001b[39m%\u001b[39m\u001b[39m boostsrap confidence interval is between\u001b[39m\u001b[39m'\u001b[39m, left_end, \u001b[39m'\u001b[39m\u001b[39mand\u001b[39m\u001b[39m'\u001b[39m, right_end)\n",
      "\u001b[1;31mNameError\u001b[0m: name 'means_bootstrapped_Msociety' is not defined"
     ]
    }
   ],
   "source": [
    "# Get the endpoints of the 95% confidence interval\n",
    "left_end = np.percentile(means_bootstrapped_Msociety, 2.5, method='higher')\n",
    "right_end =  np.percentile(means_bootstrapped_Msociety, 97.5, method='higher')\n",
    "print('The 95% boostsrap confidence interval is between', left_end, 'and', right_end)\n",
    "\n",
    "# visualize results\n",
    "ax1 = sns.displot(means_bootstrapped_Msociety)\n",
    "ax1.set(xlabel='mean in a bootstrapped sample')\n",
    "plt.hlines(y=0, xmin=left_end, xmax=right_end, colors='orange', linestyles='solid', lw=7, clip_on=False)  # show line of values between 2.5 and 97.5 percentiles\n"
   ]
  },
  {
   "cell_type": "markdown",
   "id": "9b5f788e",
   "metadata": {},
   "source": [
    "4a) For the 100's 95% bootstrap confidence intervals that we generate, the real median salary was included in 97 of them. "
   ]
  },
  {
   "cell_type": "code",
   "execution_count": 13,
   "id": "2d73a676",
   "metadata": {},
   "outputs": [],
   "source": [
    "#calculate the median salary \n",
    "#create a df with exclusively hybrid's remote ratio \n",
    "real_median_salary = salaries_df[\"salary_in_usd\"].median()\n",
    "hybrid_df = salaries_df[(salaries_df['remote_ratio'] == 'hybrid')]\n"
   ]
  },
  {
   "cell_type": "code",
   "execution_count": 28,
   "id": "da4b958b",
   "metadata": {},
   "outputs": [],
   "source": [
    "# TODO: why?\n",
    "def create_sample(hybrid_df, number_people):\n",
    "    '''This function is create a sample of a certain size from a df\n",
    "    hybrid_df: a df that we use to get a sample\n",
    "    number_people: the size of the sample'''\n",
    "    return hybrid_df.sample(n=number_people, replace=False)\n",
    "\n",
    "def bootstrap_median(original_sample, column_name, num_replications):\n",
    "    '''This function returns an array of bootstrapped sample medians:\n",
    "    original_sample: df containing the original sample\n",
    "    column_name: name of column containing the variable of interest\n",
    "    num_replications: number of bootstrap samples to draw '''\n",
    "    original_sample_size = original_sample.shape[0] # we need to replicate with the same sample size\n",
    "    original_sample_var_of_interest = original_sample[[column_name]] # the use of [[]] will return a df rather than series\n",
    "    bstrap_medians = np.empty(num_replications) # collection array for our estimates\n",
    "    for i in range(num_replications):\n",
    "        bootstrap_sample = original_sample_var_of_interest.sample(n=original_sample_size, replace=True) # note WITH REPLACEMENT!\n",
    "        resampled_median = bootstrap_sample.quantile(0.5, interpolation='higher')\n",
    "        bstrap_medians[i] = resampled_median\n",
    "    \n",
    "    return bstrap_medians\n",
    "\n",
    "def real_median_in_confience_interval(bstrap_medians, real_median_salary) :\n",
    "    '''This funciton return a bolean value, True if the median is in the confidence interval\n",
    "    bstrap_median: an array of values from which we calculate the confidence interval\n",
    "    real_median_salary: the number that we check if in the confidence interval'''\n",
    "    left_end = np.percentile(bstrap_medians, 2.5, method='higher')\n",
    "    right_end =  np.percentile(bstrap_medians, 97.5, method='higher')\n",
    "    flag = False\n",
    "    if (left_end < real_median_salary) & (real_median_salary < right_end):\n",
    "        flag = True\n",
    "    return flag"
   ]
  },
  {
   "cell_type": "code",
   "execution_count": null,
   "id": "e9b7e8ab",
   "metadata": {},
   "outputs": [],
   "source": [
    "#running the process 100 times\n",
    "number_of_simulations = 100\n",
    "size_of_sample = 150\n",
    "\n",
    "median_in_confience_interval = np.empty(number_of_simulations)\n",
    "for i in range(number_of_simulations):\n",
    "    sample = create_sample(hybrid_df, size_of_sample)\n",
    "    # sample = hybrid_df.sample(size_of_sample, replace=False)\n",
    "    bstrap_median = bootstrap_median(sample, \"salary_in_usd\", 1000)\n",
    "    median_in_confience_interval[i] = real_median_in_confience_interval(bstrap_median, real_median_salary)\n",
    "\n"
   ]
  },
  {
   "cell_type": "code",
   "execution_count": 37,
   "id": "ee58804a",
   "metadata": {},
   "outputs": [
    {
     "name": "stdout",
     "output_type": "stream",
     "text": [
      "Number of time that the real median floped in the confidence interval is : 97\n"
     ]
    }
   ],
   "source": [
    "#checking the number of time with a True answer\n",
    "count_true = np.count_nonzero(median_in_confience_interval)\n",
    "print(\"Number of time that the real median floped in the confidence interval is :\", count_true)"
   ]
  },
  {
   "attachments": {},
   "cell_type": "markdown",
   "id": "da8b94c1",
   "metadata": {},
   "source": [
    "4b) No, as we've seen in the lecture, as in our case when the population is not random, the bootstrap method will not help us and will not provide us with a good confidence interval because the bootstrap method itself is based on the fact that the population is random."
   ]
  },
  {
   "cell_type": "markdown",
   "id": "05ebece5",
   "metadata": {},
   "source": [
    "4c)"
   ]
  },
  {
   "cell_type": "code",
   "execution_count": 56,
   "id": "5fc402ed",
   "metadata": {},
   "outputs": [
    {
     "name": "stdout",
     "output_type": "stream",
     "text": [
      "112000.0\n"
     ]
    },
    {
     "data": {
      "image/png": "[encoded data removed]",
      "text/plain": [
       "<Figure size 500x500 with 1 Axes>"
      ]
     },
     "metadata": {},
     "output_type": "display_data"
    }
   ],
   "source": [
    "fully_remote_df = salaries_df[(salaries_df['remote_ratio'] == 'fully remote')]\n",
    "first_quartile_fully = fully_remote_df['salary_in_usd'].quantile(0.25)\n",
    "print(first_quartile_fully)\n",
    "ax1 = sns.displot(data=fully_remote_df, x='salary_in_usd')\n",
    "plt.axvline(x=first_quartile_fully, color='red')\n",
    "plt.show()"
   ]
  },
  {
   "cell_type": "code",
   "execution_count": 57,
   "id": "199e0895",
   "metadata": {},
   "outputs": [
    {
     "name": "stdout",
     "output_type": "stream",
     "text": [
      "120000.0\n"
     ]
    },
    {
     "data": {
      "image/png": "[encoded data removed]",
      "text/plain": [
       "<Figure size 500x500 with 1 Axes>"
      ]
     },
     "metadata": {},
     "output_type": "display_data"
    }
   ],
   "source": [
    "first_quartile_hybrid = hybrid_df['salary_in_usd'].quantile(0.25)\n",
    "print(first_quartile_hybrid)\n",
    "ax2 = sns.displot(data=hybrid_df, x='salary_in_usd')\n",
    "plt.axvline(x=first_quartile_hybrid, color='green')\n",
    "plt.show()"
   ]
  },
  {
   "cell_type": "code",
   "execution_count": 64,
   "id": "cc0a6aed",
   "metadata": {},
   "outputs": [
    {
     "data": {
      "image/png": "[encoded data removed]",
      "text/plain": [
       "<Figure size 1000x500 with 2 Axes>"
      ]
     },
     "metadata": {},
     "output_type": "display_data"
    }
   ],
   "source": [
    "# fig, ax = plt.subplots()\n",
    "# salaries_df.plot(kind='bar', x='salary_in_usd', y='remote_ratio', ax=ax)\n",
    "quartile_salary = sns.displot(data = salaries_df, x='salary_in_usd', col=\"remote_ratio\")\n",
    "plt.axvline(x=first_quartile_fully, color='red')\n",
    "plt.axvline(x=first_quartile_hybrid, color='green')\n"
   ]
  },
  {
   "attachments": {},
   "cell_type": "markdown",
   "id": "e7cf201e",
   "metadata": {},
   "source": [
    "## Part 2 :"
   ]
  },
  {
   "cell_type": "markdown",
   "id": "fc215dd3",
   "metadata": {},
   "source": [
    "1 ) \n",
    "With a very small sample, there may be increased bias in bootstrap estimates and higher variability in results. Due to the limited sample size, the generated bootstrap samples may not fully capture the true variability of the data, which may result in biased estimates or less precise confidence intervals."
   ]
  },
  {
   "attachments": {},
   "cell_type": "markdown",
   "id": "47e8e9d2",
   "metadata": {},
   "source": [
    "1*)\n",
    "With a small sample size, the bootstrap method may not represent the population well. The bootstrap method is based on the assumption that the sample is representative of the population. If the sample is not representative, the bootstrap method will not provide a good confidence interval."
   ]
  },
  {
   "cell_type": "markdown",
   "id": "0659519e",
   "metadata": {},
   "source": [
    "2a) "
   ]
  }
 ],
 "metadata": {
  "kernelspec": {
   "display_name": "Python 3 (ipykernel)",
   "language": "python",
   "name": "python3"
  },
  "language_info": {
   "codemirror_mode": {
    "name": "ipython",
    "version": 3
   },
   "file_extension": ".py",
   "mimetype": "text/x-python",
   "name": "python",
   "nbconvert_exporter": "python",
   "pygments_lexer": "ipython3",
   "version": "3.10.9"
  }
 },
 "nbformat": 4,
 "nbformat_minor": 5
}
