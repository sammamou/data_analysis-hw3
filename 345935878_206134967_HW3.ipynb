{
 "cells": [
  {
   "cell_type": "markdown",
   "id": "2e839f90",
   "metadata": {},
   "source": [
    "# <font color=green> Home Work 3 </font>\n",
    "## Part 1"
   ]
  },
  {
   "cell_type": "code",
   "execution_count": 1,
   "id": "91fa19e8",
   "metadata": {},
   "outputs": [],
   "source": [
    "import pandas as pd\n",
    "import seaborn as sns\n",
    "import numpy as np\n",
    "import matplotlib.pyplot as plt"
   ]
  },
  {
   "cell_type": "code",
   "execution_count": 2,
   "id": "3f073add",
   "metadata": {},
   "outputs": [
    {
     "data": {
      "text/html": [
       "<div>\n",
       "<style scoped>\n",
       "    .dataframe tbody tr th:only-of-type {\n",
       "        vertical-align: middle;\n",
       "    }\n",
       "\n",
       "    .dataframe tbody tr th {\n",
       "        vertical-align: top;\n",
       "    }\n",
       "\n",
       "    .dataframe thead th {\n",
       "        text-align: right;\n",
       "    }\n",
       "</style>\n",
       "<table border=\"1\" class=\"dataframe\">\n",
       "  <thead>\n",
       "    <tr style=\"text-align: right;\">\n",
       "      <th></th>\n",
       "      <th>experience_level</th>\n",
       "      <th>employment_type</th>\n",
       "      <th>job_title</th>\n",
       "      <th>salary_in_usd</th>\n",
       "      <th>remote_ratio</th>\n",
       "      <th>company_size</th>\n",
       "    </tr>\n",
       "  </thead>\n",
       "  <tbody>\n",
       "    <tr>\n",
       "      <th>0</th>\n",
       "      <td>MI</td>\n",
       "      <td>CT</td>\n",
       "      <td>ML Engineer</td>\n",
       "      <td>30000</td>\n",
       "      <td>fully remote</td>\n",
       "      <td>S</td>\n",
       "    </tr>\n",
       "    <tr>\n",
       "      <th>1</th>\n",
       "      <td>MI</td>\n",
       "      <td>CT</td>\n",
       "      <td>ML Engineer</td>\n",
       "      <td>25500</td>\n",
       "      <td>fully remote</td>\n",
       "      <td>S</td>\n",
       "    </tr>\n",
       "    <tr>\n",
       "      <th>2</th>\n",
       "      <td>SE</td>\n",
       "      <td>FT</td>\n",
       "      <td>Applied Scientist</td>\n",
       "      <td>222200</td>\n",
       "      <td>hybrid</td>\n",
       "      <td>L</td>\n",
       "    </tr>\n",
       "    <tr>\n",
       "      <th>3</th>\n",
       "      <td>SE</td>\n",
       "      <td>FT</td>\n",
       "      <td>Applied Scientist</td>\n",
       "      <td>136000</td>\n",
       "      <td>hybrid</td>\n",
       "      <td>L</td>\n",
       "    </tr>\n",
       "    <tr>\n",
       "      <th>4</th>\n",
       "      <td>SE</td>\n",
       "      <td>FT</td>\n",
       "      <td>Data Scientist</td>\n",
       "      <td>147100</td>\n",
       "      <td>hybrid</td>\n",
       "      <td>M</td>\n",
       "    </tr>\n",
       "  </tbody>\n",
       "</table>\n",
       "</div>"
      ],
      "text/plain": [
       "  experience_level employment_type          job_title  salary_in_usd  \\\n",
       "0               MI              CT        ML Engineer          30000   \n",
       "1               MI              CT        ML Engineer          25500   \n",
       "2               SE              FT  Applied Scientist         222200   \n",
       "3               SE              FT  Applied Scientist         136000   \n",
       "4               SE              FT     Data Scientist         147100   \n",
       "\n",
       "   remote_ratio company_size  \n",
       "0  fully remote            S  \n",
       "1  fully remote            S  \n",
       "2        hybrid            L  \n",
       "3        hybrid            L  \n",
       "4        hybrid            M  "
      ]
     },
     "execution_count": 2,
     "metadata": {},
     "output_type": "execute_result"
    }
   ],
   "source": [
    "#reading the csv document\n",
    "salaries_df = pd.read_csv(\"ds_salaries.csv\")\n",
    "salaries_df.head()"
   ]
  },
  {
   "cell_type": "markdown",
   "id": "9599833e",
   "metadata": {},
   "source": [
    "### Question 1:\n",
    "#### a)\n",
    "- H0 - The data represents well the population of Data profession - 35% works remotely.\n",
    "- H1 - The data does NOT represent well the population of Data profession - less than 35% works remotely."
   ]
  },
  {
   "cell_type": "markdown",
   "id": "c5779a08",
   "metadata": {},
   "source": [
    "#### b)\n",
    "##### The test statistic is the percent of remote working employees in the Data profession in the sample"
   ]
  },
  {
   "cell_type": "code",
   "execution_count": 3,
   "id": "b09b158d",
   "metadata": {},
   "outputs": [
    {
     "name": "stdout",
     "output_type": "stream",
     "text": [
      "The test statistic is:  32.46006389776358 %\n"
     ]
    }
   ],
   "source": [
    "sample_size = salaries_df.shape[0]\n",
    "num_of_remote_employees = salaries_df[salaries_df['remote_ratio'] == 'fully remote'].shape[0]\n",
    "test_statistic = num_of_remote_employees / sample_size\n",
    "print(\"The test statistic is: \", test_statistic*100, \"%\")"
   ]
  },
  {
   "cell_type": "markdown",
   "id": "da566a6f",
   "metadata": {},
   "source": [
    "#### c)\n",
    "##### We want to sample people from the population of Data profession and check if the proportion of Data profession in the sample is within the confidence interval of 95% of the population of Data profession."
   ]
  },
  {
   "cell_type": "code",
   "execution_count": 4,
   "id": "92129716",
   "metadata": {},
   "outputs": [],
   "source": [
    "population = ['fully remote', 'hybrid']\n",
    "prob_population = [0.35, 0.65] # probabilities of selection GIVEN THE MODEL IS TRUE\n",
    "\n",
    "\n",
    "# sample one value\n",
    "def prob_fully_remote():\n",
    "    sample_companies = np.random.choice(population, p=prob_population, size=sample_size)\n",
    "    num_remote = np.count_nonzero(sample_companies == 'fully remote')\n",
    "    return num_remote\n",
    "\n",
    "# run the experiment 10000 times\n",
    "num_rep = 10000\n",
    "samples = np.array([prob_fully_remote() for i in range(num_rep)])"
   ]
  },
  {
   "cell_type": "markdown",
   "id": "f3ba6225",
   "metadata": {},
   "source": [
    "We got $p_{value}<0.05$, which means that the observed case is part of the 5% tail of the empirical distribution. Therefore, assuming significance level of 0.05, we will reject the null hypothesis. That is, we can reject the hypothesis that the data represents well the population of Data profession."
   ]
  },
  {
   "cell_type": "code",
   "execution_count": 5,
   "id": "2b4891b7",
   "metadata": {},
   "outputs": [
    {
     "name": "stdout",
     "output_type": "stream",
     "text": [
      "p-value = 0.0206\n"
     ]
    },
    {
     "data": {
      "image/png": "[encoded data removed]",
      "text/plain": [
       "<Figure size 500x500 with 1 Axes>"
      ]
     },
     "metadata": {},
     "output_type": "display_data"
    }
   ],
   "source": [
    "# visualize the distribution\n",
    "distirbution = sns.displot(samples, bins=np.unique(samples), stat='probability')\n",
    "df_prob = num_of_remote_employees\n",
    "distirbution.axes[0,0].scatter(df_prob, 0, color='red', s=30, clip_on=False)\n",
    "distirbution.axes[0,0].set_xlabel('Number of remote employees')\n",
    "distirbution.axes[0,0].vlines(np.percentile(samples, 5), 0, 0.02, color='orange', linestyles='dashed')\n",
    "distirbution.axes[0,0].scatter(df_prob, 0, color='red', s=40, clip_on=False)\n",
    "p_value = np.count_nonzero(samples <= df_prob) / num_rep\n",
    "print('p-value =', p_value)"
   ]
  },
  {
   "cell_type": "markdown",
   "id": "8f9ecee7",
   "metadata": {},
   "source": [
    "### Question 2:\n",
    "#### a)\n",
    "  - 𝐻0 - The mean salary of Data Scientists is equal to the mean salary of Data Engineers\n",
    "  - 𝐻1 - The mean salary of Data Scientists is NOT equal to the mean salary of Data Engineers"
   ]
  },
  {
   "cell_type": "markdown",
   "id": "76744fa8",
   "metadata": {},
   "source": [
    "#### b)\n",
    "##### The static test is the mean of the salary of Data Scientists minus the mean of the salary of Data Engineers"
   ]
  },
  {
   "cell_type": "code",
   "execution_count": 6,
   "id": "0c2bd642",
   "metadata": {},
   "outputs": [
    {
     "name": "stdout",
     "output_type": "stream",
     "text": [
      "The test statistic is:  12686.679782082327\n"
     ]
    }
   ],
   "source": [
    "mean_data_scientist_salary = salaries_df[salaries_df['job_title'] == 'Data Scientist']['salary_in_usd'].mean()\n",
    "mean_data_engineer_salary = salaries_df[salaries_df['job_title'] == 'Data Engineer']['salary_in_usd'].mean()\n",
    "test_statistic = mean_data_scientist_salary - mean_data_engineer_salary\n",
    "print(\"The test statistic is: \", test_statistic)"
   ]
  },
  {
   "cell_type": "markdown",
   "id": "bca11006",
   "metadata": {},
   "source": [
    "#### c)\n",
    "##### We are going to check the null hypothesis with a bootstrap method."
   ]
  },
  {
   "cell_type": "code",
   "execution_count": 7,
   "id": "c4e75aec",
   "metadata": {},
   "outputs": [],
   "source": [
    "#create a df with the two categorical that we want\n",
    "dataScientist_dataEngineer_df = salaries_df[(salaries_df['job_title'] == 'Data Scientist') |\n",
    "                                            (salaries_df['job_title'] == 'Data Engineer')]\n",
    "def diff_of_avgs(df, column_name, grouping_var):\n",
    "    '''This function returns the difference in averages\n",
    "    df: the original df\n",
    "    column_name: the name of the column that we are going to calculate the mean on\n",
    "    grouping_var: the name of the column that we use to groupby'''\n",
    "    grpby_var = df.groupby(grouping_var)\n",
    "    avgs = grpby_var[column_name].mean()\n",
    "    return avgs[1] - avgs[0]\n",
    "\n",
    "def bootstrap_mean_difference(original_sample, column_name, grouping_var, num_replications):\n",
    "    '''This function returns an array of bootstrapped differences between two sample averages:\n",
    "    original_sample: df containing the original sample\n",
    "    column_name: name of column containing the variable to average\n",
    "    grouping_var: name of variable according to which to group\n",
    "    num_replications: number of bootstrap samples'''\n",
    "    original_sample_size = original_sample.shape[0] # we need to replicate with the same sample size\n",
    "    original_sample_cols_of_interest = original_sample[[column_name, grouping_var]]\n",
    "    bstrap_mean_diffs = np.empty(num_replications)\n",
    "    for i in range(num_replications):\n",
    "        bootstrap_sample = original_sample_cols_of_interest.sample(original_sample_size, replace=True)\n",
    "        resampled_mean_diff = diff_of_avgs(bootstrap_sample, column_name, grouping_var)\n",
    "        bstrap_mean_diffs[i] = resampled_mean_diff\n",
    "    \n",
    "    return bstrap_mean_diffs\n",
    "\n",
    "# run the bootstrap procedure\n",
    "bstrap_diffs = bootstrap_mean_difference(dataScientist_dataEngineer_df, 'salary_in_usd', 'job_title',  5000)"
   ]
  },
  {
   "cell_type": "code",
   "execution_count": 21,
   "id": "5d3dd2af",
   "metadata": {},
   "outputs": [
    {
     "name": "stdout",
     "output_type": "stream",
     "text": [
      "4)d)\n",
      "The 99% boostsrap confidence interval is [2942.6450297175907, 23033.919983461208]\n",
      "The 95% boostsrap confidence interval is [5202.324833881459, 20369.61305095593]\n"
     ]
    },
    {
     "data": {
      "text/plain": [
       "<matplotlib.legend.Legend at 0x1c4aed30250>"
      ]
     },
     "execution_count": 21,
     "metadata": {},
     "output_type": "execute_result"
    },
    {
     "data": {
      "image/png": "[encoded data removed]",
      "text/plain": [
       "<Figure size 500x500 with 1 Axes>"
      ]
     },
     "metadata": {},
     "output_type": "display_data"
    }
   ],
   "source": [
    "# Visualize the distribution\n",
    "ax = sns.displot(bstrap_diffs)\n",
    "ax.set(xlabel='difference in means in a bootstrapped sample')\n",
    "confidence_interval = 1\n",
    "color = 'orange'\n",
    "plt.scatter(0, 0, color='red', s=120, clip_on=False)\n",
    "\n",
    "print(\"4)d)\")\n",
    "for i in range(2):\n",
    "    left_end = np.percentile(bstrap_diffs, confidence_interval/2, method='higher')\n",
    "    right_end =  np.percentile(bstrap_diffs, 100-confidence_interval/2, method='higher')\n",
    "    print('The {}% boostsrap confidence interval is'.format(100-confidence_interval), [left_end,right_end])\n",
    "    # show line of values between 2.5 and 97.5 percentiles\n",
    "    plt.hlines(y=0, xmin=left_end, xmax=right_end, colors=color, linestyles='solid', lw=10-4*i, clip_on=False)\n",
    "    confidence_interval += 4\n",
    "    color = 'green'\n",
    "\n",
    "plt.legend(['H0', '95% confidence interval', '99% confidence interval'])"
   ]
  },
  {
   "cell_type": "markdown",
   "id": "e3e0bbf4",
   "metadata": {},
   "source": [
    "##### e) We counclude that we can reject the H0 in the different cases, because the expected value (0) isn't in the confidence interval no matter if it's 95% or 99%. In other word we can reject the fact that the salary's means are equals. "
   ]
  },
  {
   "cell_type": "markdown",
   "id": "6740a193",
   "metadata": {},
   "source": [
    "### Question 3:\n",
    "##### We will check the mean of the salary of Data Scientists in M size companies using a bootstrap method."
   ]
  },
  {
   "cell_type": "code",
   "execution_count": 9,
   "id": "21977488",
   "metadata": {},
   "outputs": [],
   "source": [
    "def bootstrap_mean(original_sample, column_name, num_replications):\n",
    "    '''This function returns an array of bootstrapped sample means:\n",
    "    original_sample: df containing the original sample\n",
    "    column_name: name of column containing the variable of interest\n",
    "    num_replications: number of bootstrap samples  '''\n",
    "    original_sample_size = original_sample.shape[0] # we need to replicate with the same sample size\n",
    "    original_sample_cols_of_interest = original_sample[[column_name]]\n",
    "    bstrap_mean_diffs = np.empty(num_replications)\n",
    "    for i in range(num_replications):\n",
    "        bootstrap_sample = original_sample_cols_of_interest.sample(original_sample_size, replace=True)\n",
    "        resampled_mean_diff = bootstrap_sample.mean()\n",
    "        bstrap_mean_diffs[i] = resampled_mean_diff\n",
    "    \n",
    "    return bstrap_mean_diffs"
   ]
  },
  {
   "cell_type": "code",
   "execution_count": 10,
   "id": "a9043b6a",
   "metadata": {},
   "outputs": [],
   "source": [
    "#run the bootstrap procedure on a dataframe with exclusively medium company\n",
    "sizeM_society_df = salaries_df[(salaries_df['company_size'] == 'M')]\n",
    "means_bootstrapped_Msociety = bootstrap_mean(sizeM_society_df, 'salary_in_usd', 5000)"
   ]
  },
  {
   "cell_type": "code",
   "execution_count": 11,
   "id": "9ee72ee0",
   "metadata": {},
   "outputs": [
    {
     "name": "stdout",
     "output_type": "stream",
     "text": [
      "The 95% boostsrap confidence interval is:\n",
      " 153629.29913391074 - 159395.17921385742\n"
     ]
    },
    {
     "data": {
      "text/plain": [
       "<matplotlib.collections.LineCollection at 0x1c4ad8bd360>"
      ]
     },
     "execution_count": 11,
     "metadata": {},
     "output_type": "execute_result"
    },
    {
     "data": {
      "image/png": "[encoded data removed]",
      "text/plain": [
       "<Figure size 500x500 with 1 Axes>"
      ]
     },
     "metadata": {},
     "output_type": "display_data"
    }
   ],
   "source": [
    "# Get the endpoints of the 95% confidence interval\n",
    "left_end = np.percentile(means_bootstrapped_Msociety, 2.5, method='higher')\n",
    "right_end =  np.percentile(means_bootstrapped_Msociety, 97.5, method='higher')\n",
    "print('The 95% boostsrap confidence interval is:\\n', left_end, '-', right_end)\n",
    "\n",
    "# visualize results\n",
    "ax1 = sns.displot(means_bootstrapped_Msociety)\n",
    "ax1.set(xlabel='Mean salary in USD')\n",
    "# show line of values between 2.5 and 97.5 percentiles\n",
    "plt.hlines(y=0, xmin=left_end, xmax=right_end, colors='orange', linestyles='solid', lw=7, clip_on=False)\n"
   ]
  },
  {
   "cell_type": "markdown",
   "id": "9b5f788e",
   "metadata": {},
   "source": [
    "### Question 4:\n",
    "#### a)"
   ]
  },
  {
   "cell_type": "code",
   "execution_count": 12,
   "id": "2d73a676",
   "metadata": {},
   "outputs": [],
   "source": [
    "#calculate the median salary\n",
    "#create a df with exclusively hybrid's remote ratio\n",
    "actual_mean_salary = salaries_df[\"salary_in_usd\"].median()\n",
    "hybrid_df = salaries_df[(salaries_df['remote_ratio'] == 'hybrid')]"
   ]
  },
  {
   "cell_type": "code",
   "execution_count": 13,
   "id": "da4b958b",
   "metadata": {},
   "outputs": [],
   "source": [
    "def bootstrap_quantile(original_sample, column_name, num_replications, quantile):\n",
    "    '''This function returns an array of bootstrapped sample medians:\n",
    "    original_sample: df containing the original sample\n",
    "    column_name: name of column containing the variable of interest\n",
    "    num_replications: number of bootstrap samples to draw '''\n",
    "    original_sample_size = original_sample.shape[0] # we need to replicate with the same sample size\n",
    "    original_sample_var_of_interest = original_sample[[column_name]] # the use of [[]] will return a df rather than series\n",
    "    bstrap_quarter = np.empty(num_replications) # collection array for our estimates\n",
    "    for i in range(num_replications):\n",
    "        bootstrap_sample = original_sample_var_of_interest.sample(n=original_sample_size, replace=True)\n",
    "        resampled_median = bootstrap_sample.quantile(quantile, interpolation='higher')\n",
    "        bstrap_quarter[i] = resampled_median\n",
    "    \n",
    "    return bstrap_quarter\n",
    "\n",
    "def real_quantile_in_confience_interval(bstrap_quantile, actual_quantile_salary) :\n",
    "    '''This funciton return a bolean value, True if the median is in the confidence interval\n",
    "    bstrap_median: an array of values from which we calculate the confidence interval\n",
    "    real_median_salary: the number that we check if in the confidence interval'''\n",
    "    left_end = np.percentile(bstrap_quantile, 2.5, method='higher')\n",
    "    right_end =  np.percentile(bstrap_quantile, 97.5, method='higher')\n",
    "    flag = False\n",
    "    if (left_end < actual_quantile_salary) & (actual_quantile_salary < right_end):\n",
    "        flag = True\n",
    "    return flag"
   ]
  },
  {
   "cell_type": "code",
   "execution_count": 14,
   "id": "e9b7e8ab",
   "metadata": {},
   "outputs": [],
   "source": [
    "#running the process 100 times\n",
    "number_of_simulations = 100\n",
    "size_of_sample = 150\n",
    "\n",
    "median_in_confience_interval = np.empty(number_of_simulations)\n",
    "for i in range(number_of_simulations):\n",
    "    sample1 = hybrid_df.sample(size_of_sample)\n",
    "    bstrap_median = bootstrap_quantile(sample1, \"salary_in_usd\", 1000, 0.5)\n",
    "    median_in_confience_interval[i] = real_quantile_in_confience_interval(bstrap_median, actual_mean_salary)\n",
    "\n"
   ]
  },
  {
   "cell_type": "code",
   "execution_count": 15,
   "id": "ee58804a",
   "metadata": {},
   "outputs": [
    {
     "name": "stdout",
     "output_type": "stream",
     "text": [
      "The number of times that the real median is in the confidence interval: 98 out of 100\n"
     ]
    }
   ],
   "source": [
    "#checking the number of time with a True answer\n",
    "count_true = np.count_nonzero(median_in_confience_interval)\n",
    "print(\"The number of times that the real median is in the confidence interval: {} out of {}\"\n",
    "      .format(count_true, number_of_simulations))"
   ]
  },
  {
   "cell_type": "markdown",
   "id": "da8b94c1",
   "metadata": {},
   "source": [
    "#### b)\n",
    "##### The promise to a confident interval from the bootstrap method isn't kept.\n",
    "##### As we've seen in the lecture, as well in our case, when the sampling process isn't random, the bootstrap method will not help us and will not provide us with a good confidence interval\n",
    "##### That's because the bootstrap method itself is based on the fact that the sample represents the population, and in our case it's not true."
   ]
  },
  {
   "cell_type": "markdown",
   "id": "05ebece5",
   "metadata": {},
   "source": [
    "#### C)"
   ]
  },
  {
   "cell_type": "code",
   "execution_count": 16,
   "id": "5fc402ed",
   "metadata": {},
   "outputs": [],
   "source": [
    "remote_df = salaries_df[(salaries_df['remote_ratio'] == 'fully remote')]\n",
    "quartile_remote = remote_df['salary_in_usd'].quantile(0.25)\n",
    "quartile_hybrid = hybrid_df['salary_in_usd'].quantile(0.25)\n",
    "\n",
    "number_of_simulations = 100\n",
    "size_of_sample = 150\n",
    "\n",
    "quantile_in_confience_interval_remote = np.empty(number_of_simulations)\n",
    "quantile_in_confience_interval_hybrid = np.empty(number_of_simulations)\n",
    "# bootstrap_quantile = np.empty(number_of_simulations)\n",
    "\n",
    "for i in range(number_of_simulations):\n",
    "    sample1 = hybrid_df.sample(size_of_sample)\n",
    "    sample2 = hybrid_df.sample(size_of_sample)\n",
    "    bstrap_quantile1 = bootstrap_quantile(sample1, \"salary_in_usd\", 1000, 0.25)\n",
    "    bstrap_quantile2 = bootstrap_quantile(sample2, \"salary_in_usd\", 1000, 0.25)\n",
    "    quantile_in_confience_interval_remote[i] = real_quantile_in_confience_interval(bstrap_quantile1, quartile_remote)\n",
    "    quantile_in_confience_interval_hybrid[i] = real_quantile_in_confience_interval(bstrap_quantile2, quartile_hybrid)\n",
    "\n"
   ]
  },
  {
   "cell_type": "code",
   "execution_count": 17,
   "id": "dfe1f7c5",
   "metadata": {},
   "outputs": [
    {
     "name": "stdout",
     "output_type": "stream",
     "text": [
      "The number of times that the real quartile is in the confidence interval for fully remote: 61 out of 100\n",
      "The number of times that the real quartile is in the confidence interval for hybrid: 82 out of 100\n"
     ]
    }
   ],
   "source": [
    "bstr_frst_quantile = bootstrap_quantile(hybrid_df.sample(150), \"salary_in_usd\", 1000, 0.25)\n",
    "count_true_remote = np.count_nonzero(quantile_in_confience_interval_remote)\n",
    "count_true_hybrid = np.count_nonzero(quantile_in_confience_interval_hybrid)\n",
    "\n",
    "print(\"The number of times that the real quartile is in the confidence interval for fully remote: {} out of {}\\n\"\n",
    "      \"The number of times that the real quartile is in the confidence interval for hybrid: {} out of {}\"\n",
    "      .format(count_true_remote, number_of_simulations, count_true_hybrid, number_of_simulations))\n",
    "\n",
    "\n"
   ]
  },
  {
   "cell_type": "markdown",
   "id": "a7ed177c",
   "metadata": {},
   "source": [
    "##### The numbers of times of the hybrid workers is closer to the real quartile salary than the numbers of the remote workers. That is because the data is based on the hybrid workers, and therefore the sample is more representative of that specific population.\n",
    "##### The data still doesn't represent the population of Data profession because it is not sampled randomly, and thst's why the bootstrap method won't give us a good confidence interval."
   ]
  },
  {
   "cell_type": "code",
   "execution_count": 25,
   "id": "cc0a6aed",
   "metadata": {},
   "outputs": [
    {
     "data": {
      "text/plain": [
       "<matplotlib.legend.Legend at 0x1c4b0b5bf70>"
      ]
     },
     "execution_count": 25,
     "metadata": {},
     "output_type": "execute_result"
    },
    {
     "data": {
      "image/png": "[encoded data removed]",
      "text/plain": [
       "<Figure size 500x500 with 1 Axes>"
      ]
     },
     "metadata": {},
     "output_type": "display_data"
    }
   ],
   "source": [
    "quartile_salary = sns.displot(data = salaries_df, x='salary_in_usd')\n",
    "plt.axvline(x=quartile_remote, color='red')\n",
    "plt.axvline(x=quartile_hybrid, color='green')\n",
    "plt.axvline(x=bstrap_median.mean(), color='blue')\n",
    "quartile_salary.set(xlabel='Salary in USD', ylabel='Count')\n",
    "quartile_salary.set_xticklabels(rotation=45)\n",
    "\n",
    "plt.legend(['remote', 'hybrid', 'bootstrap mean'])"
   ]
  },
  {
   "cell_type": "markdown",
   "id": "e7cf201e",
   "metadata": {},
   "source": [
    "## Part 2 :"
   ]
  },
  {
   "cell_type": "markdown",
   "id": "fc215dd3",
   "metadata": {},
   "source": [
    "#### 1 )\n",
    "With a very small sample, there may be increased bias in bootstrap estimates and higher variability in results. Due to the limited sample size, the generated bootstrap samples may not fully capture the true variability of the data, which may result in biased estimates or less precise confidence intervals."
   ]
  },
  {
   "cell_type": "markdown",
   "id": "5a1c5360",
   "metadata": {},
   "source": [
    "#### 2)\n",
    "##### a)\n",
    "The statistic phenomenon that can explain the difference between the two results is the simpson's paradox. That's because theres a difference between the two groups, and when we combine them we get a different result."
   ]
  },
  {
   "cell_type": "markdown",
   "id": "2855b0b7",
   "metadata": {},
   "source": [
    "##### b)\n",
    "1) In the case of a black convicted, there is a higher chance that the judge will sentence him to death rather if it was a white convicted."
   ]
  },
  {
   "cell_type": "markdown",
   "id": "d5e07aaf",
   "metadata": {},
   "source": [
    "2) Theres' is higher number of black convicts than white convicts:\n",
    "\n",
    "    262 white convicts and 440 black convicts.\n",
    "\n",
    "    The number of black convicts is higher than the number of white convicts, and therefore the chance that a black convict will be sentenced to death is higher than the chance that a white convict will be sentenced to death.\n"
   ]
  }
 ],
 "metadata": {
  "kernelspec": {
   "display_name": "Python 3 (ipykernel)",
   "language": "python",
   "name": "python3"
  },
  "language_info": {
   "codemirror_mode": {
    "name": "ipython",
    "version": 3
   },
   "file_extension": ".py",
   "mimetype": "text/x-python",
   "name": "python",
   "nbconvert_exporter": "python",
   "pygments_lexer": "ipython3",
   "version": "3.10.9"
  }
 },
 "nbformat": 4,
 "nbformat_minor": 5
}
